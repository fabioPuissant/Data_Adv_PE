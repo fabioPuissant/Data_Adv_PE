{
 "cells": [
  {
   "cell_type": "code",
   "execution_count": 54,
   "metadata": {},
   "outputs": [
    {
     "name": "stdout",
     "output_type": "stream",
     "text": [
      "[[1, 0, 1, 1, 1, 0, 1, 2, 1, 3, 3, 3, 1, 0, 4, 1, 2, 3, 4, 0], [0, 3, 1, 4, 3, 1, 3, 1, 0, 1, 0, 1, 2, 1, 3, 2, 1, 0, 4, 1], [6, 6, 3, 4, 4, 1, 4, 2, 4, 3, 5, 6, 5, 5, 5, 4, 2, 4, 1, 6]]\n"
     ]
    },
    {
     "data": {
      "text/plain": [
       "\"spreadLinker = max(goalsPerPositie[0] - min(goalsPerPositie[0]))\\nspreadRechter = max(goalsPerPositie[1] - min(goalsPerPositie[1]))\\nspreadPiloot = max(goalsPerPositie[2] - min(goalsPerPositie[2]))\\nspread = [spreadLinker, spreadRechter, spreadPiloot]\\nprint(spread)\\ncenterPiloot = np.median(goalsPerPositie[2])\\ncenterLinker = np.median(goalsPerPositie[0])\\ncenterRechter = np.median(goalsPerPositie[1])\\ncenter = [centerLinker, centerRechter, centerPiloot]\\nprint(center)\\nflier_highLinker = max(goalsPerPositie[0])\\nflier_highRechter = max(goalsPerPositie[1])\\nflier_highPiloot = max(goalsPerPositie[2])\\nflier_high = [flier_highLinker, flier_highRechter, flier_highPiloot]\\n\\nflier_lowLinker = min(goalsPerPositie[0])\\nflier_lowRechter = min(goalsPerPositie[1])\\nflier_lowPiloot = min(goalsPerPositie[2])\\nflier_low = [flier_lowLinker, flier_lowRechter, flier_lowPiloot]\\n\\nallData = np.concatenate((spread, center, flier_high, flier_low))\\nfig1, ax1 = plt.subplots()\\nax1.set_title('Basic Plot')\\nax1.boxplot(allData)\""
      ]
     },
     "execution_count": 54,
     "metadata": {},
     "output_type": "execute_result"
    },
    {
     "data": {
      "image/png": "[encoded data removed]",
      "text/plain": [
       "<Figure size 432x288 with 1 Axes>"
      ]
     },
     "metadata": {
      "needs_background": "light"
     },
     "output_type": "display_data"
    },
    {
     "data": {
      "image/png": "[encoded data removed]",
      "text/plain": [
       "<Figure size 432x288 with 1 Axes>"
      ]
     },
     "metadata": {
      "needs_background": "light"
     },
     "output_type": "display_data"
    }
   ],
   "source": [
    "import os \n",
    "import numpy as np\n",
    "import pandas as pd \n",
    "import matplotlib.pyplot as plt\n",
    "import xlrd\n",
    "\n",
    "data = pd.read_excel(\"voetbal.xlsx\", sheetname=\"gegevens\")\n",
    "\n",
    "#lees de data voor posities en goals in\n",
    "posities = data['positie']\n",
    "goals = data['aantal gemaakte goalen']\n",
    "\n",
    "#selecteer de goals voor de gewenste posities\n",
    "goalsPerPositie = [[],[],[]]\n",
    "for x in range(0, len(posities)):\n",
    "    if posities[x] == \"linkervleugel\":\n",
    "        goalsPerPositie[0].append(goals[x])\n",
    "    if posities[x] == \"rechtervleugel\":\n",
    "        goalsPerPositie[1].append(goals[x])\n",
    "    if posities[x] == \"piloot\":\n",
    "        goalsPerPositie[2].append(goals[x])\n",
    "print(goalsPerPositie)\n",
    "\n",
    "boxplotdata = [goalsPerPositie[0], goalsPerPositie[1], goalsPerPositie[2]]\n",
    "plt.boxplot(boxplotdata)\n",
    "\n",
    "\n",
    "# Blijkbaar gaat het zo simpel ook voor alle data (dus wel keeper en staart erbij)\n",
    "data.boxplot(column='aantal gemaakte goalen', by='positie')\n",
    "\n",
    "\n",
    "\n",
    "## Kutcode, niet naar kijken aub\n",
    "#\n",
    "#\n",
    "#\n",
    "#\n",
    "\"\"\"spreadLinker = max(goalsPerPositie[0] - min(goalsPerPositie[0]))\n",
    "spreadRechter = max(goalsPerPositie[1] - min(goalsPerPositie[1]))\n",
    "spreadPiloot = max(goalsPerPositie[2] - min(goalsPerPositie[2]))\n",
    "spread = [spreadLinker, spreadRechter, spreadPiloot]\n",
    "print(spread)\n",
    "centerPiloot = np.median(goalsPerPositie[2])\n",
    "centerLinker = np.median(goalsPerPositie[0])\n",
    "centerRechter = np.median(goalsPerPositie[1])\n",
    "center = [centerLinker, centerRechter, centerPiloot]\n",
    "print(center)\n",
    "flier_highLinker = max(goalsPerPositie[0])\n",
    "flier_highRechter = max(goalsPerPositie[1])\n",
    "flier_highPiloot = max(goalsPerPositie[2])\n",
    "flier_high = [flier_highLinker, flier_highRechter, flier_highPiloot]\n",
    "\n",
    "flier_lowLinker = min(goalsPerPositie[0])\n",
    "flier_lowRechter = min(goalsPerPositie[1])\n",
    "flier_lowPiloot = min(goalsPerPositie[2])\n",
    "flier_low = [flier_lowLinker, flier_lowRechter, flier_lowPiloot]\n",
    "\n",
    "allData = np.concatenate((spread, center, flier_high, flier_low))\n",
    "fig1, ax1 = plt.subplots()\n",
    "ax1.set_title('Basic Plot')\n",
    "ax1.boxplot(allData)\"\"\""
   ]
  },
  {
   "cell_type": "code",
   "execution_count": null,
   "metadata": {},
   "outputs": [],
   "source": []
  }
 ],
 "metadata": {
  "kernelspec": {
   "display_name": "Python 3",
   "language": "python",
   "name": "python3"
  },
  "language_info": {
   "codemirror_mode": {
    "name": "ipython",
    "version": 3
   },
   "file_extension": ".py",
   "mimetype": "text/x-python",
   "name": "python",
   "nbconvert_exporter": "python",
   "pygments_lexer": "ipython3",
   "version": "3.7.1"
  }
 },
 "nbformat": 4,
 "nbformat_minor": 2
}
