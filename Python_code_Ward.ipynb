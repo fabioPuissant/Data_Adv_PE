{
 "cells": [
  {
   "cell_type": "code",
   "execution_count": 1,
   "metadata": {},
   "outputs": [],
   "source": [
    "import pandas as pd\n",
    "from matplotlib import pyplot as plt\n",
    "import numpy as np\n",
    "import datetime"
   ]
  },
  {
   "cell_type": "code",
   "execution_count": 2,
   "metadata": {},
   "outputs": [],
   "source": [
    "data= pd.read_excel('voetbal.xlsx')"
   ]
  },
  {
   "cell_type": "code",
   "execution_count": 3,
   "metadata": {},
   "outputs": [
    {
     "data": {
      "text/html": [
       "<div>\n",
       "<style scoped>\n",
       "    .dataframe tbody tr th:only-of-type {\n",
       "        vertical-align: middle;\n",
       "    }\n",
       "\n",
       "    .dataframe tbody tr th {\n",
       "        vertical-align: top;\n",
       "    }\n",
       "\n",
       "    .dataframe thead th {\n",
       "        text-align: right;\n",
       "    }\n",
       "</style>\n",
       "<table border=\"1\" class=\"dataframe\">\n",
       "  <thead>\n",
       "    <tr style=\"text-align: right;\">\n",
       "      <th></th>\n",
       "      <th>naam</th>\n",
       "      <th>naam.1</th>\n",
       "      <th>positie</th>\n",
       "      <th>aantal gemaakte goalen</th>\n",
       "      <th>geboortedatum</th>\n",
       "      <th>inzet</th>\n",
       "      <th>gewicht</th>\n",
       "      <th>lengte</th>\n",
       "    </tr>\n",
       "  </thead>\n",
       "  <tbody>\n",
       "    <tr>\n",
       "      <th>0</th>\n",
       "      <td>speler1</td>\n",
       "      <td>speler1</td>\n",
       "      <td>staart</td>\n",
       "      <td>1</td>\n",
       "      <td>2011-08-24</td>\n",
       "      <td>goed</td>\n",
       "      <td>25.3</td>\n",
       "      <td>123</td>\n",
       "    </tr>\n",
       "    <tr>\n",
       "      <th>1</th>\n",
       "      <td>speler2</td>\n",
       "      <td>speler2</td>\n",
       "      <td>staart</td>\n",
       "      <td>0</td>\n",
       "      <td>2011-05-27</td>\n",
       "      <td>goed</td>\n",
       "      <td>29.2</td>\n",
       "      <td>134</td>\n",
       "    </tr>\n",
       "    <tr>\n",
       "      <th>2</th>\n",
       "      <td>speler3</td>\n",
       "      <td>speler3</td>\n",
       "      <td>linkervleugel</td>\n",
       "      <td>1</td>\n",
       "      <td>2011-05-27</td>\n",
       "      <td>goed</td>\n",
       "      <td>22.8</td>\n",
       "      <td>116</td>\n",
       "    </tr>\n",
       "    <tr>\n",
       "      <th>3</th>\n",
       "      <td>speler4</td>\n",
       "      <td>speler4</td>\n",
       "      <td>rechtervleugel</td>\n",
       "      <td>0</td>\n",
       "      <td>2011-09-02</td>\n",
       "      <td>goed</td>\n",
       "      <td>23.2</td>\n",
       "      <td>121</td>\n",
       "    </tr>\n",
       "    <tr>\n",
       "      <th>4</th>\n",
       "      <td>speler5</td>\n",
       "      <td>speler5</td>\n",
       "      <td>piloot</td>\n",
       "      <td>6</td>\n",
       "      <td>2011-11-09</td>\n",
       "      <td>matig</td>\n",
       "      <td>24.5</td>\n",
       "      <td>121</td>\n",
       "    </tr>\n",
       "  </tbody>\n",
       "</table>\n",
       "</div>"
      ],
      "text/plain": [
       "      naam   naam.1         positie  aantal gemaakte goalen geboortedatum  \\\n",
       "0  speler1  speler1          staart                       1    2011-08-24   \n",
       "1  speler2  speler2          staart                       0    2011-05-27   \n",
       "2  speler3  speler3   linkervleugel                       1    2011-05-27   \n",
       "3  speler4  speler4  rechtervleugel                       0    2011-09-02   \n",
       "4  speler5  speler5          piloot                       6    2011-11-09   \n",
       "\n",
       "   inzet  gewicht  lengte  \n",
       "0   goed     25.3     123  \n",
       "1   goed     29.2     134  \n",
       "2   goed     22.8     116  \n",
       "3   goed     23.2     121  \n",
       "4  matig     24.5     121  "
      ]
     },
     "execution_count": 3,
     "metadata": {},
     "output_type": "execute_result"
    }
   ],
   "source": [
    "start = pd.to_datetime('2011-01-01')\n",
    "end = pd.to_datetime('2011-12-31')\n",
    "start_u = start.value//10**9\n",
    "end_u = end.value//10**9\n",
    "\n",
    "data['inzet'] = ''\n",
    "for x, row in data.iterrows():\n",
    "    y = (pd.to_datetime(np.random.randint(start_u, end_u), unit='s'))\n",
    "    data.at[x,'geboortedatum'] = datetime.date(y.year,y.month,y.day)\n",
    "    \n",
    "    if y < pd.to_datetime('2011-04-01'):\n",
    "        data.at[x, 'inzet'] = 'zeer goed'\n",
    "    elif y < pd.to_datetime('2011-10-01'):\n",
    "        data.at[x, 'inzet'] = 'goed'\n",
    "    else:\n",
    "        data.at[x, 'inzet'] = 'matig'\n",
    "data.head()"
   ]
  },
  {
   "cell_type": "code",
   "execution_count": 4,
   "metadata": {},
   "outputs": [],
   "source": [
    "gewicht_gesorteerd = sorted(set(data.gewicht))"
   ]
  },
  {
   "cell_type": "code",
   "execution_count": 5,
   "metadata": {},
   "outputs": [
    {
     "data": {
      "image/png": "[encoded data removed]",
      "text/plain": [
       "<Figure size 432x288 with 1 Axes>"
      ]
     },
     "metadata": {
      "needs_background": "light"
     },
     "output_type": "display_data"
    }
   ],
   "source": [
    "for x in gewicht_gesorteerd:\n",
    "    y=data[data.gewicht==x]\n",
    "    plt.scatter(y.gewicht, y.lengte, c='b')\n",
    "plt.xlim(19,31)\n",
    "plt.ylim(110,140)\n",
    "plt.xlabel('gewicht')\n",
    "plt.ylabel('lengte')\n",
    "plt.grid(True, axis='x')\n",
    "plt.grid(True, axis='y', linestyle=':')\n",
    "plt.xticks(np.arange(19,31,step=2))\n",
    "plt.show()"
   ]
  },
  {
   "cell_type": "code",
   "execution_count": 41,
   "metadata": {},
   "outputs": [
    {
     "data": {
      "image/png": "[encoded data removed]",
      "text/plain": [
       "<Figure size 432x288 with 1 Axes>"
      ]
     },
     "metadata": {
      "needs_background": "light"
     },
     "output_type": "display_data"
    }
   ],
   "source": [
    "# Split up values by birth category\n",
    "cat1= data[pd.to_datetime(data.geboortedatum) < pd.to_datetime('2011-04-01')]\n",
    "cat2= data[(pd.to_datetime('2011-04-01')<=pd.to_datetime(data.geboortedatum)) & (pd.to_datetime(data.geboortedatum)< pd.to_datetime('2011-07-01'))]\n",
    "cat3= data[(pd.to_datetime('2011-07-01')<=pd.to_datetime(data.geboortedatum)) & (pd.to_datetime(data.geboortedatum) < pd.to_datetime('2011-10-01'))]\n",
    "cat4= data[pd.to_datetime(data.geboortedatum) >= pd.to_datetime('2011-10-01')]\n",
    "\n",
    "# retreiving positions and initializing bars\n",
    "bars1 = {}\n",
    "bars2 = {}\n",
    "bars3 = {}\n",
    "bars4 = {}\n",
    "positions = []\n",
    "for position in data['positie']:\n",
    "    if position not in positions:\n",
    "        positions.append(position)\n",
    "        bars1[position]=0\n",
    "        bars2[position]=0\n",
    "        bars3[position]=0\n",
    "        bars4[position]=0\n",
    "        \n",
    "\n",
    "# Values of each position in all birthcategories\n",
    "for x, row in cat1.iterrows():\n",
    "    position=cat1.at[x, 'positie']\n",
    "    bars1[position]=bars1[position]+ cat1.at[x, 'aantal gemaakte goalen']\n",
    "for x, row in cat2.iterrows():\n",
    "    position=cat2.at[x, 'positie']\n",
    "    bars2[position]=bars2[position]+ cat2.at[x, 'aantal gemaakte goalen']\n",
    "for x, row in cat3.iterrows():\n",
    "    position=cat3.at[x, 'positie']\n",
    "    bars3[position]=bars3[position]+ cat3.at[x, 'aantal gemaakte goalen']\n",
    "for x, row in cat4.iterrows():\n",
    "    position=cat4.at[x, 'positie']\n",
    "    bars4[position]=bars4[position]+ cat4.at[x, 'aantal gemaakte goalen']\n",
    "\n",
    "# Heights of bars1 + bars2 and bars1 + bars2 + bars3\n",
    "bars1_2 = np.add(list(bars1.values()), list(bars2.values())).tolist()\n",
    "bars1_2_3= np.add(bars1_2,list(bars3.values())).tolist()\n",
    " \n",
    "# The position of the bars on the x-axis\n",
    "r = range(0,len(positions))\n",
    " \n",
    "# Names of group and bar width\n",
    "names = positions\n",
    "barWidth = 1\n",
    " \n",
    "# Create green bars\n",
    "plt.bar(r, list(bars1.values()), color='#2BCE48', edgecolor='white', width=barWidth)\n",
    "# Create orange bars (middle no.1), on top of the firs ones\n",
    "plt.bar(r, list(bars2.values()), bottom=list(bars1.values()), color='#FF8800', edgecolor='white', width=barWidth)\n",
    "# Create blue bars (midlle no.2)\n",
    "plt.bar(r, list(bars3.values()), bottom=bars1_2, color='#0075DC', edgecolor='white', width=barWidth)\n",
    "# Create red bars (top)\n",
    "plt.bar(r, list(bars4.values()), bottom=bars1_2_3, color='#FF0010', edgecolor='white', width=barWidth)\n",
    " \n",
    "# Custom X axis\n",
    "plt.legend([\"jan-maart\",\"april-juni\",\"juli-september\",\"october-december\"])\n",
    "plt.xticks(range(0,len(positions)),positions, rotation=45)\n",
    "plt.ylabel(\"aantal goals\")\n",
    "plt.xlabel(\"posities\")\n",
    " \n",
    "# Show graphic\n",
    "plt.show()"
   ]
  },
  {
   "cell_type": "code",
   "execution_count": null,
   "metadata": {},
   "outputs": [],
   "source": []
  }
 ],
 "metadata": {
  "kernelspec": {
   "display_name": "Python 3",
   "language": "python",
   "name": "python3"
  },
  "language_info": {
   "codemirror_mode": {
    "name": "ipython",
    "version": 3
   },
   "file_extension": ".py",
   "mimetype": "text/x-python",
   "name": "python",
   "nbconvert_exporter": "python",
   "pygments_lexer": "ipython3",
   "version": "3.7.1"
  }
 },
 "nbformat": 4,
 "nbformat_minor": 2
}
